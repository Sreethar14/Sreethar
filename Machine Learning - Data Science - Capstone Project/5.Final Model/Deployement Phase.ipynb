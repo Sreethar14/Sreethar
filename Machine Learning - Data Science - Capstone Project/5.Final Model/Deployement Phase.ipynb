{
 "cells": [
  {
   "cell_type": "code",
   "execution_count": 1,
   "id": "31e2e7f7-5ff8-4de6-ab03-db4b06cc87e2",
   "metadata": {},
   "outputs": [],
   "source": [
    "import pickle"
   ]
  },
  {
   "cell_type": "code",
   "execution_count": 2,
   "id": "d157f37f-0eb3-4fcd-897d-c24e6e92eb21",
   "metadata": {},
   "outputs": [],
   "source": [
    "# best model\n",
    "filename = \"Random_Forest_dataset_preprocess_ds_final.sav\""
   ]
  },
  {
   "cell_type": "code",
   "execution_count": 3,
   "id": "9a475b9b-925e-478b-a4d5-59066d3ee358",
   "metadata": {},
   "outputs": [],
   "source": [
    "# Load the saved model\n",
    "loaded_model = pickle.load(open(filename, 'rb'))"
   ]
  },
  {
   "cell_type": "code",
   "execution_count": 4,
   "id": "44574bd6-19f0-4afb-855a-8d3b12c99c50",
   "metadata": {},
   "outputs": [
    {
     "name": "stdout",
     "output_type": "stream",
     "text": [
      "Rice_Sesamum: 100\n",
      "Rice_Soyabean: 75\n",
      "Rice_Sugarcane: 100\n",
      "Rice_Sunflower: 80\n",
      "Rice_Wheat: 90\n"
     ]
    }
   ],
   "source": [
    "def get_categorical_prediction(prediction):\n",
    "    return \"Yes\" if prediction == 1 else \"No\"\n",
    "\n",
    "# Make predictions\n",
    "Rice_Sesamum_input = float(input(\"Rice_Sesamum: \"))\n",
    "Rice_Soyabean_input = float(input(\"Rice_Soyabean: \"))\n",
    "Rice_Sugarcane_input = float(input(\"Rice_Sugarcane: \"))\n",
    "Rice_Sunflower_input = float(input(\"Rice_Sunflower: \"))\n",
    "Rice_Wheat_input = float(input(\"Rice_Wheat: \"))\n",
    "# Predict the future maintenance requirement\n",
    "future_prediction = loaded_model.predict([[Rice_Sesamum_input,Rice_Soyabean_input,Rice_Sugarcane_input,Rice_Sunflower_input,Rice_Wheat_input]])\n",
    "\n",
    "# Convert numerical prediction to categorical label\n",
    "future_prediction_categorical = get_categorical_prediction(future_prediction[0])"
   ]
  },
  {
   "cell_type": "code",
   "execution_count": 5,
   "id": "54a026f0-9d22-4c83-ba56-215c15ee4a4d",
   "metadata": {},
   "outputs": [
    {
     "name": "stdout",
     "output_type": "stream",
     "text": [
      "Future Prediction (Rice_Sesamum): No\n"
     ]
    }
   ],
   "source": [
    "# Print the categorical prediction\n",
    "print(\"Future Prediction (Rice_Sesamum):\", future_prediction_categorical)"
   ]
  }
 ],
 "metadata": {
  "kernelspec": {
   "display_name": "Python 3 (ipykernel)",
   "language": "python",
   "name": "python3"
  },
  "language_info": {
   "codemirror_mode": {
    "name": "ipython",
    "version": 3
   },
   "file_extension": ".py",
   "mimetype": "text/x-python",
   "name": "python",
   "nbconvert_exporter": "python",
   "pygments_lexer": "ipython3",
   "version": "3.11.5"
  }
 },
 "nbformat": 4,
 "nbformat_minor": 5
}
