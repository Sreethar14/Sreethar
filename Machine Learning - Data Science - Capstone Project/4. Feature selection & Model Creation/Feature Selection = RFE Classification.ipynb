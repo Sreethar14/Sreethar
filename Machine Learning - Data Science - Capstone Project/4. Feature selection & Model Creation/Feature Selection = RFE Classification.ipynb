{
 "cells": [
  {
   "cell_type": "code",
   "execution_count": 1,
   "id": "07d645d8-1d4b-4cea-925a-d50452fdb7ec",
   "metadata": {
    "scrolled": true
   },
   "outputs": [],
   "source": [
    "import pandas as pd\n",
    "from sklearn.model_selection import train_test_split \n",
    "import time\n",
    "import numpy as np\n",
    "from sklearn.preprocessing import StandardScaler\n",
    "from sklearn.feature_selection import SelectKBest\n",
    "from sklearn.feature_selection import chi2\n",
    "from sklearn.feature_selection import RFE\n",
    "from sklearn.linear_model import LogisticRegression\n",
    "import pickle\n",
    "import matplotlib.pyplot as plt\n",
    "import xgboost"
   ]
  },
  {
   "cell_type": "code",
   "execution_count": 2,
   "id": "cd416b27-59db-4032-8a74-5c7880dd107e",
   "metadata": {},
   "outputs": [],
   "source": [
    "#!pip install xgboost"
   ]
  },
  {
   "cell_type": "code",
   "execution_count": 3,
   "id": "17102ecb-cb07-4642-a55c-c6b8f650b0eb",
   "metadata": {},
   "outputs": [],
   "source": [
    "dataset = pd.read_csv(\"dataset_preprocess_ds.csv\", index_col=None)\n",
    "df2 = dataset\n",
    "df2 = pd.get_dummies(df2, drop_first=True)\n",
    "\n",
    "indep_X = df2.drop(['Crop/Year'], axis=1)\n",
    "dep_Y = df2['Production_Tonnes']"
   ]
  },
  {
   "cell_type": "code",
   "execution_count": 4,
   "id": "9ead7298-06d1-49dd-a92a-2307798d4ab8",
   "metadata": {},
   "outputs": [
    {
     "data": {
      "text/plain": [
       "Index(['Crop/Year', 'Area_Hectares', 'Production_Tonnes', 'District_Name_BEED',\n",
       "       'District_Name_HINGOLI', 'District_Name_JALNA', 'District_Name_LATUR',\n",
       "       'District_Name_NANDED', 'District_Name_OSMANABAD',\n",
       "       'Winter/Summer_Rabi       ', 'Winter/Summer_Summer     ',\n",
       "       'Winter/Summer_Whole Year ', 'Rice_Bajra', 'Rice_Castor seed',\n",
       "       'Rice_Cotton(lint)', 'Rice_Gram', 'Rice_Groundnut', 'Rice_Jowar',\n",
       "       'Rice_Linseed', 'Rice_Maize', 'Rice_Moong(Green Gram)',\n",
       "       'Rice_Niger seed', 'Rice_Other  Rabi pulses',\n",
       "       'Rice_Other Kharif pulses', 'Rice_Rice', 'Rice_Safflower',\n",
       "       'Rice_Sesamum', 'Rice_Soyabean', 'Rice_Sugarcane', 'Rice_Sunflower',\n",
       "       'Rice_Wheat'],\n",
       "      dtype='object')"
      ]
     },
     "execution_count": 4,
     "metadata": {},
     "output_type": "execute_result"
    }
   ],
   "source": [
    "dataset.columns"
   ]
  },
  {
   "cell_type": "code",
   "execution_count": 5,
   "id": "6135bbb0-9666-4924-a38a-8488b5af403d",
   "metadata": {},
   "outputs": [],
   "source": [
    "indep_X = dataset.drop(['Crop/Year', 'Area_Hectares', 'Production_Tonnes'], axis=1)\n",
    "dep_Y = dataset['Rice_Sesamum']"
   ]
  },
  {
   "cell_type": "code",
   "execution_count": 6,
   "id": "502e6098-156f-4fa9-a43c-0791c9d10f9f",
   "metadata": {},
   "outputs": [],
   "source": [
    "#Feature Selection"
   ]
  },
  {
   "cell_type": "code",
   "execution_count": 7,
   "id": "31307658-7948-437e-b5ac-91736ae3753d",
   "metadata": {},
   "outputs": [],
   "source": [
    "def split_scalar(indep_X,dep_Y):\n",
    "        X_train, X_test, y_train, y_test = train_test_split(indep_X, dep_Y, test_size = 0.25, random_state = 0)\n",
    "\n",
    "        sc = StandardScaler()\n",
    "        X_train = sc.fit_transform(X_train)\n",
    "        X_test = sc.transform(X_test)    \n",
    "        return X_train, X_test, y_train, y_test"
   ]
  },
  {
   "cell_type": "code",
   "execution_count": 8,
   "id": "5cd67c23-f7c6-4d2d-8d91-3a173afcfe5d",
   "metadata": {},
   "outputs": [],
   "source": [
    "def r2_prediction(regressor,X_test,y_test):\n",
    "    y_pred = regressor.predict(X_test)\n",
    "    from sklearn.metrics import r2_score\n",
    "    r2=r2_score(y_test,y_pred)\n",
    "    return r2"
   ]
  },
  {
   "cell_type": "code",
   "execution_count": 9,
   "id": "1010fddf-ed1a-43b7-bcc7-2515d67ad484",
   "metadata": {},
   "outputs": [],
   "source": [
    "def Linear(X_train,y_train,X_test):       \n",
    "        from sklearn.linear_model import LinearRegression\n",
    "        regressor = LinearRegression()\n",
    "        regressor.fit(X_train, y_train)\n",
    "        r2=r2_prediction(regressor,X_test,y_test)\n",
    "        return  r2 "
   ]
  },
  {
   "cell_type": "code",
   "execution_count": 10,
   "id": "3e534c8c-aeac-448f-8056-b90bf6dbf9c1",
   "metadata": {},
   "outputs": [],
   "source": [
    "def Decision(X_train,y_train,X_test):\n",
    "        from sklearn.tree import DecisionTreeRegressor\n",
    "        regressor = DecisionTreeRegressor(random_state = 0)\n",
    "        regressor.fit(X_train, y_train)\n",
    "        r2=r2_prediction(regressor,X_test,y_test)\n",
    "        return  r2 "
   ]
  },
  {
   "cell_type": "code",
   "execution_count": 11,
   "id": "b8c93bee-91f7-4be9-a480-9a7cef0f1bbd",
   "metadata": {},
   "outputs": [],
   "source": [
    "def random(X_train,y_train,X_test):       \n",
    "        from sklearn.ensemble import RandomForestRegressor\n",
    "        regressor = RandomForestRegressor(n_estimators = 10, random_state = 0)\n",
    "        regressor.fit(X_train, y_train)\n",
    "        r2=r2_prediction(regressor,X_test,y_test)\n",
    "        return  r2"
   ]
  },
  {
   "cell_type": "code",
   "execution_count": 12,
   "id": "5949f791-2c54-43ea-8b0f-b27abdd98496",
   "metadata": {},
   "outputs": [],
   "source": [
    "def xgboost(X_train,y_train,X_test):       \n",
    "        from xgboost import XGBRegressor\n",
    "        regressor = XGBRegressor(n_jobs=5,learning_rate=0.1,max_depth=10,random_state=1)\n",
    "        regressor.fit(X_train, y_train)\n",
    "        r2=r2_prediction(regressor,X_test,y_test)\n",
    "        return r2"
   ]
  },
  {
   "cell_type": "code",
   "execution_count": null,
   "id": "d2a38d1e-d3eb-4274-a705-2f5923f7882e",
   "metadata": {},
   "outputs": [],
   "source": []
  },
  {
   "cell_type": "code",
   "execution_count": 13,
   "id": "d016788b-fad5-4f9f-82d5-65e83f9a4466",
   "metadata": {},
   "outputs": [
    {
     "name": "stdout",
     "output_type": "stream",
     "text": [
      "Model: Linear\n",
      "Selected Columns: ['Rice_Castor seed', 'Rice_Cotton(lint)', 'Rice_Maize', 'Rice_Safflower', 'Rice_Sesamum']\n",
      "R2 Value: 0.0\n",
      "\n",
      "Model: Decision\n",
      "Selected Columns: ['Rice_Sesamum', 'Rice_Soyabean', 'Rice_Sugarcane', 'Rice_Sunflower', 'Rice_Wheat']\n",
      "R2 Value: 1.0\n",
      "\n",
      "Model: Random\n",
      "Selected Columns: ['Rice_Sesamum', 'Rice_Soyabean', 'Rice_Sugarcane', 'Rice_Sunflower', 'Rice_Wheat']\n",
      "R2 Value: 1.0\n",
      "\n",
      "Model: XGBoost\n",
      "Selected Columns: ['Rice_Sesamum', 'Rice_Soyabean', 'Rice_Sugarcane', 'Rice_Sunflower', 'Rice_Wheat']\n",
      "R2 Value: 0.0\n",
      "\n"
     ]
    }
   ],
   "source": [
    "def rfeFeature(indep_X, dep_Y, n):\n",
    "    rfelist = []\n",
    "    colnames_list = []  \n",
    "    # List to store column names for each model\n",
    "    r2_values = []  \n",
    "    # List to store R2 values for each model\n",
    "\n",
    "    from sklearn.linear_model import LinearRegression\n",
    "    lin = LinearRegression()\n",
    "\n",
    "    from sklearn.tree import DecisionTreeRegressor\n",
    "    dec = DecisionTreeRegressor(random_state=0)\n",
    "\n",
    "    from sklearn.ensemble import RandomForestRegressor\n",
    "    rf = RandomForestRegressor(n_estimators=10, random_state=0)\n",
    "\n",
    "    from xgboost import XGBRegressor\n",
    "    xgb = XGBRegressor(n_jobs=5, learning_rate=0.1, max_depth=10, random_state=1)\n",
    "\n",
    "    rfemodellist = [lin, dec, rf, xgb]\n",
    "\n",
    "    for model in rfemodellist:\n",
    "        log_rfe = RFE(estimator=model, n_features_to_select=n)\n",
    "        log_fit = log_rfe.fit(indep_X, dep_Y)\n",
    "        log_rfe_feature = log_fit.transform(indep_X)\n",
    "        rfelist.append(log_rfe_feature)\n",
    "\n",
    "        # Get the column names selected by RFE\n",
    "        selected_columns = [col for col, selected in zip(indep_X.columns, log_rfe.support_) if selected]\n",
    "        colnames_list.append(selected_columns)\n",
    "\n",
    "        # Fit the model and calculate and store the R2 value\n",
    "        X_train, X_test, y_train, y_test = split_scalar(pd.DataFrame(log_rfe_feature), dep_Y)\n",
    "        model.fit(X_train, y_train)  # Fit the model\n",
    "        r2 = r2_prediction(model, X_test, y_test)\n",
    "        r2_values.append(r2)\n",
    "\n",
    "    return rfelist, colnames_list, r2_values\n",
    "\n",
    "# Call the function with your data\n",
    "rfelist, colnames_list, r2_values = rfeFeature(indep_X, dep_Y, 5)\n",
    "\n",
    "# Print the selected column names and R2 values for each model\n",
    "for model_name, selected_columns, r2_value in zip([\"Linear\", \"Decision\", \"Random\", \"XGBoost\"], colnames_list, r2_values):\n",
    "    print(f\"Model: {model_name}\")\n",
    "    print(\"Selected Columns:\", selected_columns)\n",
    "    print(f\"R2 Value: {r2_value}\\n\")"
   ]
  },
  {
   "cell_type": "code",
   "execution_count": null,
   "id": "f500281b-3e7e-49e2-9f89-b9bb3d08fa2b",
   "metadata": {},
   "outputs": [],
   "source": []
  }
 ],
 "metadata": {
  "kernelspec": {
   "display_name": "Python 3 (ipykernel)",
   "language": "python",
   "name": "python3"
  },
  "language_info": {
   "codemirror_mode": {
    "name": "ipython",
    "version": 3
   },
   "file_extension": ".py",
   "mimetype": "text/x-python",
   "name": "python",
   "nbconvert_exporter": "python",
   "pygments_lexer": "ipython3",
   "version": "3.11.5"
  }
 },
 "nbformat": 4,
 "nbformat_minor": 5
}
