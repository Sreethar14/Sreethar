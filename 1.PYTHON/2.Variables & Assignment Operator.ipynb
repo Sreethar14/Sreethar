{
 "cells": [
  {
   "cell_type": "code",
   "execution_count": 1,
   "id": "b2a2911b",
   "metadata": {},
   "outputs": [
    {
     "name": "stdout",
     "output_type": "stream",
     "text": [
      "Welcome to AI\n"
     ]
    }
   ],
   "source": [
    "#print Statement\n",
    "print(\"Welcome to AI\")"
   ]
  },
  {
   "cell_type": "code",
   "execution_count": 2,
   "id": "2bacaadd",
   "metadata": {},
   "outputs": [
    {
     "name": "stdout",
     "output_type": "stream",
     "text": [
      "Enter your institute name? : Hope AI\n"
     ]
    }
   ],
   "source": [
    "#Buy input\n",
    "name = input('Enter your institute name? : ')"
   ]
  },
  {
   "cell_type": "code",
   "execution_count": 3,
   "id": "5de0279f",
   "metadata": {},
   "outputs": [
    {
     "name": "stdout",
     "output_type": "stream",
     "text": [
      "Enter your name: Sreethar\n",
      "Enetr your age: 34\n",
      "Enter your school name: Tagore Matric Sec School\n",
      "Enter your degree: BE- Mechanical Engineering\n"
     ]
    }
   ],
   "source": [
    "#Buy inputs\n",
    "name = input('Enter your name: ')\n",
    "age = input('Enetr your age: ')\n",
    "school = input('Enter your school name: ')\n",
    "degree = input('Enter your degree: ')"
   ]
  },
  {
   "cell_type": "code",
   "execution_count": 4,
   "id": "0491f823",
   "metadata": {},
   "outputs": [
    {
     "name": "stdout",
     "output_type": "stream",
     "text": [
      "a= 44\n",
      "b= 32\n",
      "add= 76\n"
     ]
    }
   ],
   "source": [
    "#Addition\n",
    "num1=int(input(\"a= \"))\n",
    "num2=int(input(\"b= \"))\n",
    "print(\"add=\",num1+num2)"
   ]
  },
  {
   "cell_type": "code",
   "execution_count": 5,
   "id": "37fe72d1",
   "metadata": {},
   "outputs": [
    {
     "name": "stdout",
     "output_type": "stream",
     "text": [
      "a= 44\n",
      "b= 32\n",
      "sub= 12\n"
     ]
    }
   ],
   "source": [
    "#Subtraction\n",
    "num1 =int(input(\"a= \"))\n",
    "num2 = int(input(\"b= \"))\n",
    "print(\"sub =\",num1-num2)"
   ]
  },
  {
   "cell_type": "code",
   "execution_count": 1,
   "id": "39c5ab4d",
   "metadata": {},
   "outputs": [
    {
     "name": "stdout",
     "output_type": "stream",
     "text": [
      "a= 68\n",
      "b= 96\n",
      "Mul= 6528\n"
     ]
    }
   ],
   "source": [
    "#Multiplication\n",
    "num1 = int(input(\"a= \"))\n",
    "num2 = int(input(\"b= \"))\n",
    "print(\"Mul=\",num1*num2)"
   ]
  },
  {
   "cell_type": "code",
   "execution_count": 2,
   "id": "42723728",
   "metadata": {},
   "outputs": [
    {
     "name": "stdout",
     "output_type": "stream",
     "text": [
      "a= 77\n",
      "b= 32\n",
      "Floor Div = 2\n"
     ]
    }
   ],
   "source": [
    "#Division\n",
    "num1 = int(input(\"a= \"))\n",
    "num2 = int(input(\"b= \"))\n",
    "print(\"Floor Div =\",num1//num2)"
   ]
  },
  {
   "cell_type": "code",
   "execution_count": 3,
   "id": "2a124497",
   "metadata": {},
   "outputs": [
    {
     "name": "stdout",
     "output_type": "stream",
     "text": [
      "a= 77\n",
      "b= 32\n",
      "Modulo = 13\n"
     ]
    }
   ],
   "source": [
    "#Modulo\n",
    "num1=int(input(\"a= \"))\n",
    "num2=int(input(\"b= \"))\n",
    "print(\"Modulo =\",num1%num2)"
   ]
  },
  {
   "cell_type": "code",
   "execution_count": 4,
   "id": "06328fd6",
   "metadata": {},
   "outputs": [
    {
     "name": "stdout",
     "output_type": "stream",
     "text": [
      "a= 5\n",
      "b= 5\n",
      "Power = 3125\n"
     ]
    }
   ],
   "source": [
    "#Power\n",
    "num1=int(input(\"a= \"))\n",
    "num2=int(input(\"b= \"))\n",
    "print(\"Power =\",num1**num2)"
   ]
  },
  {
   "cell_type": "code",
   "execution_count": null,
   "id": "82baef7c",
   "metadata": {},
   "outputs": [],
   "source": []
  }
 ],
 "metadata": {
  "kernelspec": {
   "display_name": "Python 3 (ipykernel)",
   "language": "python",
   "name": "python3"
  },
  "language_info": {
   "codemirror_mode": {
    "name": "ipython",
    "version": 3
   },
   "file_extension": ".py",
   "mimetype": "text/x-python",
   "name": "python",
   "nbconvert_exporter": "python",
   "pygments_lexer": "ipython3",
   "version": "3.11.5"
  }
 },
 "nbformat": 4,
 "nbformat_minor": 5
}
