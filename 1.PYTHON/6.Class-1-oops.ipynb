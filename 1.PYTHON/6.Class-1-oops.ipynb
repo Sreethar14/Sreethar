{
 "cells": [
  {
   "cell_type": "code",
   "execution_count": 1,
   "id": "49d87049",
   "metadata": {},
   "outputs": [],
   "source": [
    "class multipleFunctions():\n",
    "    def OddEven():\n",
    "        num = int(input(\"Enter a number: \"))\n",
    "        if (num % 2) == 0:\n",
    "            print(\"{0} is Even number\".format(num))\n",
    "        else:\n",
    "            print(\"{0} is Odd number\".format(num))\n",
    "\n",
    "    def Elegible():\n",
    "        gender=input(\"Your Gender:\")\n",
    "        age=int(input(\"Your Age:\"))\n",
    "        \n",
    "        if(gender=='Male'):\n",
    "            if(age>=21):\n",
    "                print('ELEGIBLE')\n",
    "            else:\n",
    "                print('NOT ELEGIBLE')\n",
    "        elif(gender=='FEMALE'):\n",
    "            if(age>18):\n",
    "                print('ELEGIBLE')\n",
    "            else:\n",
    "                print('NOT ELEGIBLE')\n",
    "        else:\n",
    "            print('INVALID INPUT DATA')\n",
    "\n",
    "    def triangle():\n",
    "        Height=int(input(\"Height:\"))\n",
    "        breadth=int(input(\"Breadth:\"))\n",
    "        print(\"Area formula: (Height*Breadth)/2\")\n",
    "        print(\"Area of Triangle: \",(Height*breadth)/2)\n",
    "        Height1=int(input(\"Height1:\"))\n",
    "        Height2=int(input(\"Height2:\"))\n",
    "        breadth=int(input(\"Breadth:\"))\n",
    "        print(\"Perimeter formula: Height1+Height2+Breadth\")\n",
    "        print(\"Perimeter of Triangle: \",Height1+Height2+breadth)           \n"
   ]
  }
 ],
 "metadata": {
  "kernelspec": {
   "display_name": "Python 3 (ipykernel)",
   "language": "python",
   "name": "python3"
  },
  "language_info": {
   "codemirror_mode": {
    "name": "ipython",
    "version": 3
   },
   "file_extension": ".py",
   "mimetype": "text/x-python",
   "name": "python",
   "nbconvert_exporter": "python",
   "pygments_lexer": "ipython3",
   "version": "3.11.5"
  }
 },
 "nbformat": 4,
 "nbformat_minor": 5
}
