{
 "cells": [
  {
   "cell_type": "code",
   "execution_count": 1,
   "id": "0e90b6e6",
   "metadata": {},
   "outputs": [],
   "source": [
    "from multipleFunctions import multipleFunctions"
   ]
  },
  {
   "cell_type": "code",
   "execution_count": 2,
   "id": "ecbc97c5",
   "metadata": {},
   "outputs": [
    {
     "name": "stdout",
     "output_type": "stream",
     "text": [
      "Enter a number: 5432\n",
      "5432 is Even number\n"
     ]
    }
   ],
   "source": [
    " multipleFunctions.OddEven()"
   ]
  },
  {
   "cell_type": "code",
   "execution_count": 3,
   "id": "3a216aa0",
   "metadata": {},
   "outputs": [
    {
     "name": "stdout",
     "output_type": "stream",
     "text": [
      "Your Gender:Male\n",
      "Your Age:34\n",
      "ELEGIBLE\n"
     ]
    }
   ],
   "source": [
    " multipleFunctions.Elegible()"
   ]
  },
  {
   "cell_type": "code",
   "execution_count": 4,
   "id": "2871bca5",
   "metadata": {},
   "outputs": [
    {
     "name": "stdout",
     "output_type": "stream",
     "text": [
      "Subject1=96\n",
      "Subject2=88\n",
      "Subject3=95\n",
      "Subject4=95\n",
      "Subject5=92\n",
      "Total: 466\n",
      "Percentage:  93.2\n"
     ]
    }
   ],
   "source": [
    " multipleFunctions.percentage()"
   ]
  },
  {
   "cell_type": "code",
   "execution_count": null,
   "id": "5a4880ad",
   "metadata": {},
   "outputs": [],
   "source": []
  }
 ],
 "metadata": {
  "kernelspec": {
   "display_name": "Python 3 (ipykernel)",
   "language": "python",
   "name": "python3"
  },
  "language_info": {
   "codemirror_mode": {
    "name": "ipython",
    "version": 3
   },
   "file_extension": ".py",
   "mimetype": "text/x-python",
   "name": "python",
   "nbconvert_exporter": "python",
   "pygments_lexer": "ipython3",
   "version": "3.11.5"
  }
 },
 "nbformat": 4,
 "nbformat_minor": 5
}
