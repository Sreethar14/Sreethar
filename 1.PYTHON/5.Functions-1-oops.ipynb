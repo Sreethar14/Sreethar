{
 "cells": [
  {
   "cell_type": "code",
   "execution_count": 15,
   "id": "88792ce7",
   "metadata": {},
   "outputs": [],
   "source": [
    "#Create a class and function, and list out the items in the list\n",
    "class SubfieldsInAI():\n",
    "      def Subfields():\n",
    "        print(\"Sub-fields in AI are.\")\n",
    "        List=['Machine Learning', 'Neural Networks', 'Vision', 'Speech Processing', 'Natural language Processing']\n",
    "        for temp in List:\n",
    "            print(temp)  "
   ]
  },
  {
   "cell_type": "code",
   "execution_count": 16,
   "id": "2850afc7",
   "metadata": {},
   "outputs": [
    {
     "name": "stdout",
     "output_type": "stream",
     "text": [
      "Sub-fields in AI are.\n",
      "Machine Learning\n",
      "Neural Networks\n",
      "Vision\n",
      "Speech Processing\n",
      "Natural language Processing\n"
     ]
    }
   ],
   "source": [
    "SubfieldsInAI.Subfields()"
   ]
  },
  {
   "cell_type": "code",
   "execution_count": 17,
   "id": "be7791e3",
   "metadata": {},
   "outputs": [],
   "source": [
    "#Create a functin that checks whether the given number is Odd or Even\n",
    "class OddEven():\n",
    "  def OddEven():\n",
    "    num = int(input(\"Enetr a number: \"))\n",
    "    if(num%2)==0:\n",
    "        print(\"{0} is Even number\".format(num))\n",
    "    else:\n",
    "        print(\"{0} is Odd number\".format(num))"
   ]
  },
  {
   "cell_type": "code",
   "execution_count": 18,
   "id": "87f15e56",
   "metadata": {},
   "outputs": [
    {
     "name": "stdout",
     "output_type": "stream",
     "text": [
      "Enetr a number: 53452\n",
      "53452 is Even number\n"
     ]
    }
   ],
   "source": [
    "OddEven.OddEven()"
   ]
  },
  {
   "cell_type": "code",
   "execution_count": 53,
   "id": "39f7a16f",
   "metadata": {},
   "outputs": [],
   "source": [
    "#Create a function that tells elegiblity for marriage according to their age limit like 21 for male and 18 for female\n",
    "class ElegiblityForMarriage():\n",
    "    def Elegible():\n",
    "        gender=input(\"Your Gender:\")\n",
    "        age=int(input(\"Your Age:\"))\n",
    "        \n",
    "        if(gender=='Male'):\n",
    "            if(age>=21):\n",
    "                print('ELEGIBLE')\n",
    "            else:\n",
    "                print('NOT ELEGIBLE')\n",
    "        elif(gender=='FEMALE'):\n",
    "            if(age>18):\n",
    "                print('ELEGIBLE')\n",
    "            else:\n",
    "                print('NOT ELEGIBLE')\n",
    "        else:\n",
    "            print('INVALID INPUT DATA')"
   ]
  },
  {
   "cell_type": "code",
   "execution_count": 54,
   "id": "eb067ba1",
   "metadata": {},
   "outputs": [
    {
     "name": "stdout",
     "output_type": "stream",
     "text": [
      "Your Gender:Male\n",
      "Your Age:21\n",
      "ELEGIBLE\n"
     ]
    }
   ],
   "source": [
    "ElegiblityForMarriage.Elegible()"
   ]
  },
  {
   "cell_type": "code",
   "execution_count": 55,
   "id": "2fb752fd",
   "metadata": {},
   "outputs": [],
   "source": [
    "#Calculate the percentage of your 10th mark\n",
    "class Findpercent():\n",
    "    def percentage():\n",
    "        m1=int(input(\"Subject1=\"))\n",
    "        m2=int(input(\"Subject2=\"))\n",
    "        m3=int(input(\"Subject3=\"))\n",
    "        m4=int(input(\"Subject4=\"))\n",
    "        m5=int(input(\"Subject5=\"))\n",
    "        Total=m1+m2+m3+m4+m5\n",
    "        print(\"Total:\",m1+m2+m3+m4+m5)\n",
    "        Percent=(Total/500)*100\n",
    "        print(\"Percentage: \",Percent)"
   ]
  },
  {
   "cell_type": "code",
   "execution_count": 56,
   "id": "0c44fd05",
   "metadata": {},
   "outputs": [
    {
     "name": "stdout",
     "output_type": "stream",
     "text": [
      "Subject1=96\n",
      "Subject2=88\n",
      "Subject3=95\n",
      "Subject4=95\n",
      "Subject5=92\n",
      "Total: 466\n",
      "Percentage:  93.2\n"
     ]
    }
   ],
   "source": [
    "Findpercent.percentage()"
   ]
  },
  {
   "cell_type": "code",
   "execution_count": 57,
   "id": "8baf86ae",
   "metadata": {},
   "outputs": [],
   "source": [
    "#print area and perimeter of triangle using class and functions\n",
    "class triangle():\n",
    "    def triangle():\n",
    "        Height=int(input(\"Height:\"))\n",
    "        breadth=int(input(\"Breadth:\"))\n",
    "        print(\"Area formula: (Height*Breadth)/2\")\n",
    "        print(\"Area of Triangle: \",(Height*breadth)/2)\n",
    "        Height1=int(input(\"Height1:\"))\n",
    "        Height2=int(input(\"Height2:\"))\n",
    "        breadth=int(input(\"Breadth:\"))\n",
    "        print(\"Perimeter formula: Height1+Height2+Breadth\")\n",
    "        print(\"Perimeter of Triangle: \",Height1+Height2+breadth)"
   ]
  },
  {
   "cell_type": "code",
   "execution_count": 58,
   "id": "ad606016",
   "metadata": {},
   "outputs": [
    {
     "name": "stdout",
     "output_type": "stream",
     "text": [
      "Height:3\n",
      "Breadth:4\n",
      "Area formula: (Height*Breadth)/2\n",
      "Area of Triangle:  6.0\n",
      "Height1:3\n",
      "Height2:4\n",
      "Breadth:45\n",
      "Perimeter formula: Height1+Height2+Breadth\n",
      "Perimeter of Triangle:  52\n"
     ]
    }
   ],
   "source": [
    "triangle.triangle()"
   ]
  },
  {
   "cell_type": "code",
   "execution_count": null,
   "id": "3c2b9b12",
   "metadata": {},
   "outputs": [],
   "source": []
  }
 ],
 "metadata": {
  "kernelspec": {
   "display_name": "Python 3 (ipykernel)",
   "language": "python",
   "name": "python3"
  },
  "language_info": {
   "codemirror_mode": {
    "name": "ipython",
    "version": 3
   },
   "file_extension": ".py",
   "mimetype": "text/x-python",
   "name": "python",
   "nbconvert_exporter": "python",
   "pygments_lexer": "ipython3",
   "version": "3.11.5"
  }
 },
 "nbformat": 4,
 "nbformat_minor": 5
}
