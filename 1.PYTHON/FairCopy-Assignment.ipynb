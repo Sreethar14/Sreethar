{
 "cells": [
  {
   "cell_type": "code",
   "execution_count": 1,
   "id": "f79d6122",
   "metadata": {},
   "outputs": [],
   "source": [
    "from multipleFunctions import multipleFunctions"
   ]
  },
  {
   "cell_type": "code",
   "execution_count": 2,
   "id": "bf529b60",
   "metadata": {},
   "outputs": [
    {
     "name": "stdout",
     "output_type": "stream",
     "text": [
      "Enter a number: 5432\n",
      "5432 is Even number\n"
     ]
    }
   ],
   "source": [
    " multipleFunctions.OddEven()"
   ]
  },
  {
   "cell_type": "code",
   "execution_count": 3,
   "id": "de0b3677",
   "metadata": {},
   "outputs": [
    {
     "name": "stdout",
     "output_type": "stream",
     "text": [
      "Your Gender:Male\n",
      "Your Age:34\n",
      "ELEGIBLE\n"
     ]
    }
   ],
   "source": [
    " multipleFunctions.Elegible()"
   ]
  },
  {
   "cell_type": "code",
   "execution_count": 4,
   "id": "471e8857",
   "metadata": {},
   "outputs": [
    {
     "name": "stdout",
     "output_type": "stream",
     "text": [
      "Subject1=98\n",
      "Subject2=88\n",
      "Subject3=95\n",
      "Subject4=95\n",
      "Subject5=92\n",
      "Total: 468\n",
      "Percentage:  93.60000000000001\n"
     ]
    }
   ],
   "source": [
    " multipleFunctions.percentage()3"
   ]
  },
  {
   "cell_type": "code",
   "execution_count": 5,
   "id": "6f638123",
   "metadata": {},
   "outputs": [
    {
     "name": "stdout",
     "output_type": "stream",
     "text": [
      "Height:3\n",
      "Breadth:4\n",
      "Area formula: (Height*Breadth)/2\n",
      "Area of Triangle:  6.0\n",
      "Height1:3\n",
      "Height2:4\n",
      "Breadth:45\n",
      "Perimeter formula: Height1+Height2+Breadth\n",
      "Perimeter of Triangle:  52\n"
     ]
    }
   ],
   "source": [
    " multipleFunctions.triangle()"
   ]
  },
  {
   "cell_type": "code",
   "execution_count": 6,
   "id": "78e262c6",
   "metadata": {},
   "outputs": [
    {
     "name": "stdout",
     "output_type": "stream",
     "text": [
      "Sub-fields in AI are.\n",
      "Machine Learning\n",
      "Neural Networks\n",
      "Vision\n",
      "Speech Processing\n",
      "Natural language Processing\n"
     ]
    }
   ],
   "source": [
    " multipleFunctions.Subfields()"
   ]
  },
  {
   "cell_type": "code",
   "execution_count": null,
   "id": "eca1f2f6",
   "metadata": {},
   "outputs": [],
   "source": []
  }
 ],
 "metadata": {
  "kernelspec": {
   "display_name": "Python 3 (ipykernel)",
   "language": "python",
   "name": "python3"
  },
  "language_info": {
   "codemirror_mode": {
    "name": "ipython",
    "version": 3
   },
   "file_extension": ".py",
   "mimetype": "text/x-python",
   "name": "python",
   "nbconvert_exporter": "python",
   "pygments_lexer": "ipython3",
   "version": "3.11.5"
  }
 },
 "nbformat": 4,
 "nbformat_minor": 5
}
