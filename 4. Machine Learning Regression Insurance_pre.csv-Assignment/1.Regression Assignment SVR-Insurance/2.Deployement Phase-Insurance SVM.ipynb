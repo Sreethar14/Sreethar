{
 "cells": [
  {
   "cell_type": "code",
   "execution_count": 1,
   "id": "69df2da5",
   "metadata": {},
   "outputs": [],
   "source": [
    "import pickle"
   ]
  },
  {
   "cell_type": "code",
   "execution_count": 2,
   "id": "21f77b35",
   "metadata": {},
   "outputs": [],
   "source": [
    "load_model=pickle.load(open(\"finialized_model_SVM_linear.sav\",'rb'))"
   ]
  },
  {
   "cell_type": "code",
   "execution_count": 3,
   "id": "efbe3ef7",
   "metadata": {},
   "outputs": [],
   "source": [
    "result=load_model.predict([[123,34,34,1,0]])"
   ]
  },
  {
   "cell_type": "code",
   "execution_count": 4,
   "id": "41564780",
   "metadata": {},
   "outputs": [
    {
     "data": {
      "text/plain": [
       "array([16541.97525408])"
      ]
     },
     "execution_count": 4,
     "metadata": {},
     "output_type": "execute_result"
    }
   ],
   "source": [
    "result"
   ]
  },
  {
   "cell_type": "code",
   "execution_count": null,
   "id": "10b70742",
   "metadata": {},
   "outputs": [],
   "source": []
  }
 ],
 "metadata": {
  "kernelspec": {
   "display_name": "Python 3 (ipykernel)",
   "language": "python",
   "name": "python3"
  },
  "language_info": {
   "codemirror_mode": {
    "name": "ipython",
    "version": 3
   },
   "file_extension": ".py",
   "mimetype": "text/x-python",
   "name": "python",
   "nbconvert_exporter": "python",
   "pygments_lexer": "ipython3",
   "version": "3.11.5"
  }
 },
 "nbformat": 4,
 "nbformat_minor": 5
}
